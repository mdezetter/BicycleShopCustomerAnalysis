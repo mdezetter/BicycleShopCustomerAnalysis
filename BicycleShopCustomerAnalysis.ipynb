{
 "cells": [
  {
   "cell_type": "markdown",
   "id": "b00bc8c3",
   "metadata": {},
   "source": [
    "# Analysis of Bicycle Owners\n",
    "\n",
    "This dataset contains the following columns: Martial Status, Gender, Income, Children, Education, Occupation, Home Owner, Cars, Commute Distance, Region, Age, and Purchase Bike."
   ]
  },
  {
   "cell_type": "code",
   "execution_count": 86,
   "id": "6e599e7c",
   "metadata": {},
   "outputs": [],
   "source": [
    "# Imports\n",
    "\n",
    "import pandas as pd\n",
    "from pandas._libs.tslibs import dtypes\n",
    "import matplotlib.pyplot as plt\n",
    "import seaborn as sns\n",
    "import numpy as np"
   ]
  },
  {
   "cell_type": "code",
   "execution_count": 87,
   "id": "6dc199d0",
   "metadata": {},
   "outputs": [],
   "source": [
    "# Upload BikeData.csv save as dataframe 'bike'\n",
    "\n",
    "bike = pd.read_csv('BikeData.csv')"
   ]
  },
  {
   "cell_type": "code",
   "execution_count": 88,
   "id": "ce134eea",
   "metadata": {},
   "outputs": [
    {
     "name": "stdout",
     "output_type": "stream",
     "text": [
      "The bike dataframes shape is (1000, 12)\n"
     ]
    }
   ],
   "source": [
    "print(f'The bike dataframes shape is {bike.shape}')"
   ]
  },
  {
   "cell_type": "code",
   "execution_count": 89,
   "id": "d8be1fe4",
   "metadata": {},
   "outputs": [
    {
     "name": "stdout",
     "output_type": "stream",
     "text": [
      "   Marital Status  Gender    Income  Children            Education  \\\n",
      "0         Married  Female   40000.0       1.0            Bachelors   \n",
      "1         Married    Male   30000.0       3.0      Partial College   \n",
      "2         Married    Male   80000.0       5.0      Partial College   \n",
      "3          Single     NaN   70000.0       0.0            Bachelors   \n",
      "4          Single    Male   30000.0       0.0            Bachelors   \n",
      "5         Married  Female   10000.0       2.0      Partial College   \n",
      "6          Single    Male  160000.0       2.0          High School   \n",
      "7         Married    Male   40000.0       1.0            Bachelors   \n",
      "8             NaN    Male   20000.0       2.0  Partial High School   \n",
      "9         Married    Male       NaN       2.0      Partial College   \n",
      "10        Married  Female   30000.0       3.0          High School   \n",
      "\n",
      "        Occupation Home Owner  Cars Commute Distance   Region   Age  \\\n",
      "0   Skilled Manual        Yes   0.0        0-1 Miles   Europe  42.0   \n",
      "1         Clerical        Yes   1.0        0-1 Miles   Europe  43.0   \n",
      "2     Professional         No   2.0        2-5 Miles   Europe  60.0   \n",
      "3     Professional        Yes   1.0       5-10 Miles  Pacific  41.0   \n",
      "4         Clerical         No   0.0        0-1 Miles   Europe  36.0   \n",
      "5           Manual        Yes   0.0        1-2 Miles   Europe  50.0   \n",
      "6       Management        NaN   4.0        0-1 Miles  Pacific  33.0   \n",
      "7   Skilled Manual        Yes   0.0        0-1 Miles   Europe  43.0   \n",
      "8         Clerical        Yes   2.0       5-10 Miles  Pacific  58.0   \n",
      "9           Manual        Yes   1.0        0-1 Miles   Europe   NaN   \n",
      "10  Skilled Manual         No   2.0        1-2 Miles  Pacific  54.0   \n",
      "\n",
      "   Purchased Bike  \n",
      "0              No  \n",
      "1              No  \n",
      "2              No  \n",
      "3             Yes  \n",
      "4             Yes  \n",
      "5              No  \n",
      "6             Yes  \n",
      "7             Yes  \n",
      "8              No  \n",
      "9             Yes  \n",
      "10            Yes  \n"
     ]
    }
   ],
   "source": [
    "# Print the first look at our data\n",
    "\n",
    "print(bike.head(11))"
   ]
  },
  {
   "cell_type": "markdown",
   "id": "f81b5b87",
   "metadata": {},
   "source": [
    "Some of the columns have names with spaces, I'm going to make things easier on myself and take the spaces out."
   ]
  },
  {
   "cell_type": "code",
   "execution_count": 90,
   "id": "2de82da9",
   "metadata": {},
   "outputs": [],
   "source": [
    "bike.columns = ['MaritalStatus', 'Gender', 'Income', 'Children', 'Education', \n",
    "                'Occupation', 'HomeOwner', 'Cars', 'CommuteDistance', 'Region', \n",
    "                'Age', 'PurchasedBike']"
   ]
  },
  {
   "cell_type": "code",
   "execution_count": 91,
   "id": "b63f7b0b",
   "metadata": {},
   "outputs": [
    {
     "name": "stdout",
     "output_type": "stream",
     "text": [
      "Index(['MaritalStatus', 'Gender', 'Income', 'Children', 'Education',\n",
      "       'Occupation', 'HomeOwner', 'Cars', 'CommuteDistance', 'Region', 'Age',\n",
      "       'PurchasedBike'],\n",
      "      dtype='object')\n"
     ]
    }
   ],
   "source": [
    "# Checking the column names changed.\n",
    "\n",
    "print(bike.columns)"
   ]
  },
  {
   "cell_type": "code",
   "execution_count": 92,
   "id": "124b27af",
   "metadata": {},
   "outputs": [
    {
     "data": {
      "text/plain": [
       "MaritalStatus       object\n",
       "Gender              object\n",
       "Income             float64\n",
       "Children           float64\n",
       "Education           object\n",
       "Occupation          object\n",
       "HomeOwner           object\n",
       "Cars               float64\n",
       "CommuteDistance     object\n",
       "Region              object\n",
       "Age                float64\n",
       "PurchasedBike       object\n",
       "dtype: object"
      ]
     },
     "execution_count": 92,
     "metadata": {},
     "output_type": "execute_result"
    }
   ],
   "source": [
    "# Look at the types of data in the columns\n",
    "\n",
    "bike.dtypes"
   ]
  },
  {
   "cell_type": "code",
   "execution_count": 93,
   "id": "61717148",
   "metadata": {},
   "outputs": [
    {
     "data": {
      "text/html": [
       "<div>\n",
       "<style scoped>\n",
       "    .dataframe tbody tr th:only-of-type {\n",
       "        vertical-align: middle;\n",
       "    }\n",
       "\n",
       "    .dataframe tbody tr th {\n",
       "        vertical-align: top;\n",
       "    }\n",
       "\n",
       "    .dataframe thead th {\n",
       "        text-align: right;\n",
       "    }\n",
       "</style>\n",
       "<table border=\"1\" class=\"dataframe\">\n",
       "  <thead>\n",
       "    <tr style=\"text-align: right;\">\n",
       "      <th></th>\n",
       "      <th>Income</th>\n",
       "      <th>Children</th>\n",
       "      <th>Cars</th>\n",
       "      <th>Age</th>\n",
       "    </tr>\n",
       "  </thead>\n",
       "  <tbody>\n",
       "    <tr>\n",
       "      <th>count</th>\n",
       "      <td>994.00</td>\n",
       "      <td>992.00</td>\n",
       "      <td>991.00</td>\n",
       "      <td>992.00</td>\n",
       "    </tr>\n",
       "    <tr>\n",
       "      <th>mean</th>\n",
       "      <td>56267.61</td>\n",
       "      <td>1.91</td>\n",
       "      <td>1.46</td>\n",
       "      <td>44.18</td>\n",
       "    </tr>\n",
       "    <tr>\n",
       "      <th>std</th>\n",
       "      <td>31067.82</td>\n",
       "      <td>1.63</td>\n",
       "      <td>1.12</td>\n",
       "      <td>11.36</td>\n",
       "    </tr>\n",
       "    <tr>\n",
       "      <th>min</th>\n",
       "      <td>10000.00</td>\n",
       "      <td>0.00</td>\n",
       "      <td>0.00</td>\n",
       "      <td>25.00</td>\n",
       "    </tr>\n",
       "    <tr>\n",
       "      <th>25%</th>\n",
       "      <td>30000.00</td>\n",
       "      <td>0.00</td>\n",
       "      <td>1.00</td>\n",
       "      <td>35.00</td>\n",
       "    </tr>\n",
       "    <tr>\n",
       "      <th>50%</th>\n",
       "      <td>60000.00</td>\n",
       "      <td>2.00</td>\n",
       "      <td>1.00</td>\n",
       "      <td>43.00</td>\n",
       "    </tr>\n",
       "    <tr>\n",
       "      <th>75%</th>\n",
       "      <td>70000.00</td>\n",
       "      <td>3.00</td>\n",
       "      <td>2.00</td>\n",
       "      <td>52.00</td>\n",
       "    </tr>\n",
       "    <tr>\n",
       "      <th>max</th>\n",
       "      <td>170000.00</td>\n",
       "      <td>5.00</td>\n",
       "      <td>4.00</td>\n",
       "      <td>89.00</td>\n",
       "    </tr>\n",
       "  </tbody>\n",
       "</table>\n",
       "</div>"
      ],
      "text/plain": [
       "          Income  Children    Cars     Age\n",
       "count     994.00    992.00  991.00  992.00\n",
       "mean    56267.61      1.91    1.46   44.18\n",
       "std     31067.82      1.63    1.12   11.36\n",
       "min     10000.00      0.00    0.00   25.00\n",
       "25%     30000.00      0.00    1.00   35.00\n",
       "50%     60000.00      2.00    1.00   43.00\n",
       "75%     70000.00      3.00    2.00   52.00\n",
       "max    170000.00      5.00    4.00   89.00"
      ]
     },
     "execution_count": 93,
     "metadata": {},
     "output_type": "execute_result"
    }
   ],
   "source": [
    "# Summary statistics for our numerical variables rounded to 2 decimal places.\n",
    "\n",
    "round(bike.describe(), 2)"
   ]
  },
  {
   "cell_type": "raw",
   "id": "0eaf8f38",
   "metadata": {},
   "source": [
    "Points to look at in our summary statistics:\n",
    "* mean income is $56,267\n",
    "* Income varies between $10,000 and $170,000\n",
    "* The average number of children is 1.91 for the customers of the bike shop\n",
    "* The average age of the customer is 44 years old."
   ]
  },
  {
   "cell_type": "markdown",
   "id": "1eb2e54e",
   "metadata": {},
   "source": [
    "## Cleaning & Checking for Nulls"
   ]
  },
  {
   "cell_type": "code",
   "execution_count": 94,
   "id": "d53ff11c",
   "metadata": {},
   "outputs": [
    {
     "name": "stdout",
     "output_type": "stream",
     "text": [
      "Variable MaritalStatus includes 7 NaN entries\n",
      "Variable Gender includes 11 NaN entries\n",
      "Variable Income includes 6 NaN entries\n",
      "Variable Children includes 8 NaN entries\n",
      "Variable Education includes 0 NaN entries\n",
      "Variable Occupation includes 0 NaN entries\n",
      "Variable HomeOwner includes 4 NaN entries\n",
      "Variable Cars includes 9 NaN entries\n",
      "Variable CommuteDistance includes 0 NaN entries\n",
      "Variable Region includes 0 NaN entries\n",
      "Variable Age includes 8 NaN entries\n",
      "Variable PurchasedBike includes 0 NaN entries\n"
     ]
    }
   ],
   "source": [
    "# for loop that counts the number of nulls in each feature and returns the value.\n",
    "\n",
    "for i in bike.columns:\n",
    "  nulls = sum(bike[i].isnull())\n",
    "  print('Variable {} includes {} NaN entries'.format(i, (sum(bike[i].isnull()))))"
   ]
  },
  {
   "cell_type": "markdown",
   "id": "4cb28c39",
   "metadata": {},
   "source": [
    "Only 7 features are missing values.\n",
    "* MaritalStatus\n",
    "* Gender\n",
    "* Income\n",
    "* Children\n",
    "* HomeOwner\n",
    "* Cars\n",
    "* Age\n",
    "\n",
    "For numeric variables, I'll replace their missing values with their mean."
   ]
  },
  {
   "cell_type": "code",
   "execution_count": 95,
   "id": "8611535e",
   "metadata": {},
   "outputs": [],
   "source": [
    "# Numeric Variables\n",
    "\n",
    "bike['Income'].fillna(bike['Income'].mean(), inplace=True)\n",
    "bike['Children'].fillna(bike['Children'].mean(), inplace=True)\n",
    "bike['Cars'].fillna(bike['Cars'].mean(), inplace=True)\n",
    "bike['Age'].fillna(bike['Age'].mean(), inplace=True)"
   ]
  },
  {
   "cell_type": "markdown",
   "id": "a6807e34",
   "metadata": {},
   "source": [
    "Now the remaining missing variables are\n",
    "* MaritalStatus\n",
    "* Gender\n",
    "* HomeOwner\n",
    "\n",
    "I'm going to fill these with \"Missing\""
   ]
  },
  {
   "cell_type": "code",
   "execution_count": 96,
   "id": "8b992224",
   "metadata": {},
   "outputs": [],
   "source": [
    "# fill remaining categorical variable NaN with 'missing'\n",
    "\n",
    "bike = bike.fillna('missing')"
   ]
  },
  {
   "cell_type": "code",
   "execution_count": 97,
   "id": "7cf04848",
   "metadata": {},
   "outputs": [
    {
     "name": "stdout",
     "output_type": "stream",
     "text": [
      "Variable MaritalStatus includes 0 NaN entries\n",
      "Variable Gender includes 0 NaN entries\n",
      "Variable Income includes 0 NaN entries\n",
      "Variable Children includes 0 NaN entries\n",
      "Variable Education includes 0 NaN entries\n",
      "Variable Occupation includes 0 NaN entries\n",
      "Variable HomeOwner includes 0 NaN entries\n",
      "Variable Cars includes 0 NaN entries\n",
      "Variable CommuteDistance includes 0 NaN entries\n",
      "Variable Region includes 0 NaN entries\n",
      "Variable Age includes 0 NaN entries\n",
      "Variable PurchasedBike includes 0 NaN entries\n"
     ]
    }
   ],
   "source": [
    "# Checking to see if any NaN slipped through\n",
    "\n",
    "for i in bike.columns:\n",
    "  nulls = sum(bike[i].isnull())\n",
    "  print('Variable {} includes {} NaN entries'.format(i, (sum(bike[i].isnull()))))"
   ]
  },
  {
   "cell_type": "markdown",
   "id": "0d7643eb",
   "metadata": {},
   "source": [
    "## Vizualizations"
   ]
  },
  {
   "cell_type": "code",
   "execution_count": 98,
   "id": "bd66f0b3",
   "metadata": {},
   "outputs": [
    {
     "data": {
      "text/plain": [
       "Text(0, 0.5, 'Frequency')"
      ]
     },
     "execution_count": 98,
     "metadata": {},
     "output_type": "execute_result"
    },
    {
     "data": {
      "image/png": "[encoded data removed]",
      "text/plain": [
       "<Figure size 640x480 with 1 Axes>"
      ]
     },
     "metadata": {},
     "output_type": "display_data"
    }
   ],
   "source": [
    "# Starting with Income, I'll create a histogram to check for skew\n",
    "\n",
    "plt.hist(bike['Income'], bins=10)\n",
    "plt.xlabel('Income')\n",
    "plt.ylabel('Frequency')"
   ]
  },
  {
   "cell_type": "markdown",
   "id": "b99b2d32",
   "metadata": {},
   "source": [
    "The Income histogram definitely seems skewed"
   ]
  },
  {
   "cell_type": "code",
   "execution_count": 99,
   "id": "6d92f4b3",
   "metadata": {},
   "outputs": [
    {
     "data": {
      "text/plain": [
       "[Text(0, 0, 'Partial High School'),\n",
       " Text(1, 0, 'High School'),\n",
       " Text(2, 0, 'Partial College'),\n",
       " Text(3, 0, 'Bachelors'),\n",
       " Text(4, 0, 'Graduate Degree')]"
      ]
     },
     "execution_count": 99,
     "metadata": {},
     "output_type": "execute_result"
    },
    {
     "data": {
      "image/png": "[encoded data removed]",
      "text/plain": [
       "<Figure size 640x480 with 1 Axes>"
      ]
     },
     "metadata": {},
     "output_type": "display_data"
    }
   ],
   "source": [
    "# Boxplots to show the different education levels plotted with income.\n",
    "\n",
    "boxplot = sns.boxplot(data=bike, x='Education', y='Income', order = [\"Partial High School\", \"High School\", \"Partial College\", \"Bachelors\", \"Graduate Degree\"])\n",
    "boxplot.set_xticklabels(boxplot.get_xticklabels(),rotation=30)"
   ]
  },
  {
   "cell_type": "markdown",
   "id": "8cfa3877",
   "metadata": {},
   "source": [
    "We can see evidence that as education increases, so does average income."
   ]
  },
  {
   "cell_type": "code",
   "execution_count": 100,
   "id": "eb757bdc",
   "metadata": {},
   "outputs": [
    {
     "data": {
      "text/plain": [
       "<Axes: xlabel='Age', ylabel='Income'>"
      ]
     },
     "execution_count": 100,
     "metadata": {},
     "output_type": "execute_result"
    },
    {
     "data": {
      "image/png": "[encoded data removed]",
      "text/plain": [
       "<Figure size 640x480 with 1 Axes>"
      ]
     },
     "metadata": {},
     "output_type": "display_data"
    }
   ],
   "source": [
    "# Age vs Income, scatterplot to compare\n",
    "\n",
    "bike.plot(kind='scatter', x='Age', y='Income')"
   ]
  },
  {
   "cell_type": "markdown",
   "id": "889d3377",
   "metadata": {},
   "source": [
    "# Subsetting a Dataset"
   ]
  },
  {
   "cell_type": "code",
   "execution_count": 101,
   "id": "2e9db180",
   "metadata": {},
   "outputs": [
    {
     "data": {
      "text/html": [
       "<div>\n",
       "<style scoped>\n",
       "    .dataframe tbody tr th:only-of-type {\n",
       "        vertical-align: middle;\n",
       "    }\n",
       "\n",
       "    .dataframe tbody tr th {\n",
       "        vertical-align: top;\n",
       "    }\n",
       "\n",
       "    .dataframe thead th {\n",
       "        text-align: right;\n",
       "    }\n",
       "</style>\n",
       "<table border=\"1\" class=\"dataframe\">\n",
       "  <thead>\n",
       "    <tr style=\"text-align: right;\">\n",
       "      <th></th>\n",
       "      <th>Education</th>\n",
       "      <th>Gender</th>\n",
       "      <th>Income</th>\n",
       "      <th>Age</th>\n",
       "    </tr>\n",
       "  </thead>\n",
       "  <tbody>\n",
       "    <tr>\n",
       "      <th>0</th>\n",
       "      <td>Bachelors</td>\n",
       "      <td>Female</td>\n",
       "      <td>40000.0</td>\n",
       "      <td>42.0</td>\n",
       "    </tr>\n",
       "    <tr>\n",
       "      <th>1</th>\n",
       "      <td>Partial College</td>\n",
       "      <td>Male</td>\n",
       "      <td>30000.0</td>\n",
       "      <td>43.0</td>\n",
       "    </tr>\n",
       "    <tr>\n",
       "      <th>2</th>\n",
       "      <td>Partial College</td>\n",
       "      <td>Male</td>\n",
       "      <td>80000.0</td>\n",
       "      <td>60.0</td>\n",
       "    </tr>\n",
       "    <tr>\n",
       "      <th>3</th>\n",
       "      <td>Bachelors</td>\n",
       "      <td>missing</td>\n",
       "      <td>70000.0</td>\n",
       "      <td>41.0</td>\n",
       "    </tr>\n",
       "    <tr>\n",
       "      <th>4</th>\n",
       "      <td>Bachelors</td>\n",
       "      <td>Male</td>\n",
       "      <td>30000.0</td>\n",
       "      <td>36.0</td>\n",
       "    </tr>\n",
       "  </tbody>\n",
       "</table>\n",
       "</div>"
      ],
      "text/plain": [
       "         Education   Gender   Income   Age\n",
       "0        Bachelors   Female  40000.0  42.0\n",
       "1  Partial College     Male  30000.0  43.0\n",
       "2  Partial College     Male  80000.0  60.0\n",
       "3        Bachelors  missing  70000.0  41.0\n",
       "4        Bachelors     Male  30000.0  36.0"
      ]
     },
     "execution_count": 101,
     "metadata": {},
     "output_type": "execute_result"
    }
   ],
   "source": [
    "# Creating a second dataframe with only Education, Gender, Income, and Age.\n",
    "# Name it Income\n",
    "\n",
    "income = bike[['Education', 'Gender', 'Income', 'Age']]\n",
    "income.head()"
   ]
  },
  {
   "cell_type": "code",
   "execution_count": 102,
   "id": "5316f2f0",
   "metadata": {},
   "outputs": [
    {
     "data": {
      "text/html": [
       "<div>\n",
       "<style scoped>\n",
       "    .dataframe tbody tr th:only-of-type {\n",
       "        vertical-align: middle;\n",
       "    }\n",
       "\n",
       "    .dataframe tbody tr th {\n",
       "        vertical-align: top;\n",
       "    }\n",
       "\n",
       "    .dataframe thead th {\n",
       "        text-align: right;\n",
       "    }\n",
       "</style>\n",
       "<table border=\"1\" class=\"dataframe\">\n",
       "  <thead>\n",
       "    <tr style=\"text-align: right;\">\n",
       "      <th></th>\n",
       "      <th></th>\n",
       "      <th>Income</th>\n",
       "      <th>Age</th>\n",
       "    </tr>\n",
       "    <tr>\n",
       "      <th>Gender</th>\n",
       "      <th>Education</th>\n",
       "      <th></th>\n",
       "      <th></th>\n",
       "    </tr>\n",
       "  </thead>\n",
       "  <tbody>\n",
       "    <tr>\n",
       "      <th rowspan=\"5\" valign=\"top\">Female</th>\n",
       "      <th>Bachelors</th>\n",
       "      <td>64084.02</td>\n",
       "      <td>45.97</td>\n",
       "    </tr>\n",
       "    <tr>\n",
       "      <th>Graduate Degree</th>\n",
       "      <td>63548.39</td>\n",
       "      <td>43.07</td>\n",
       "    </tr>\n",
       "    <tr>\n",
       "      <th>High School</th>\n",
       "      <td>44500.00</td>\n",
       "      <td>45.15</td>\n",
       "    </tr>\n",
       "    <tr>\n",
       "      <th>Partial College</th>\n",
       "      <td>51335.36</td>\n",
       "      <td>43.53</td>\n",
       "    </tr>\n",
       "    <tr>\n",
       "      <th>Partial High School</th>\n",
       "      <td>29736.84</td>\n",
       "      <td>39.95</td>\n",
       "    </tr>\n",
       "    <tr>\n",
       "      <th rowspan=\"5\" valign=\"top\">Male</th>\n",
       "      <th>Bachelors</th>\n",
       "      <td>61975.92</td>\n",
       "      <td>44.85</td>\n",
       "    </tr>\n",
       "    <tr>\n",
       "      <th>Graduate Degree</th>\n",
       "      <td>68734.18</td>\n",
       "      <td>47.02</td>\n",
       "    </tr>\n",
       "    <tr>\n",
       "      <th>High School</th>\n",
       "      <td>49154.22</td>\n",
       "      <td>43.23</td>\n",
       "    </tr>\n",
       "    <tr>\n",
       "      <th>Partial College</th>\n",
       "      <td>57228.96</td>\n",
       "      <td>42.65</td>\n",
       "    </tr>\n",
       "    <tr>\n",
       "      <th>Partial High School</th>\n",
       "      <td>39210.53</td>\n",
       "      <td>44.13</td>\n",
       "    </tr>\n",
       "    <tr>\n",
       "      <th rowspan=\"3\" valign=\"top\">missing</th>\n",
       "      <th>Bachelors</th>\n",
       "      <td>62000.00</td>\n",
       "      <td>40.44</td>\n",
       "    </tr>\n",
       "    <tr>\n",
       "      <th>Graduate Degree</th>\n",
       "      <td>80000.00</td>\n",
       "      <td>39.50</td>\n",
       "    </tr>\n",
       "    <tr>\n",
       "      <th>Partial College</th>\n",
       "      <td>72500.00</td>\n",
       "      <td>45.75</td>\n",
       "    </tr>\n",
       "  </tbody>\n",
       "</table>\n",
       "</div>"
      ],
      "text/plain": [
       "                               Income    Age\n",
       "Gender  Education                           \n",
       "Female  Bachelors            64084.02  45.97\n",
       "        Graduate Degree      63548.39  43.07\n",
       "        High School          44500.00  45.15\n",
       "        Partial College      51335.36  43.53\n",
       "        Partial High School  29736.84  39.95\n",
       "Male    Bachelors            61975.92  44.85\n",
       "        Graduate Degree      68734.18  47.02\n",
       "        High School          49154.22  43.23\n",
       "        Partial College      57228.96  42.65\n",
       "        Partial High School  39210.53  44.13\n",
       "missing Bachelors            62000.00  40.44\n",
       "        Graduate Degree      80000.00  39.50\n",
       "        Partial College      72500.00  45.75"
      ]
     },
     "execution_count": 102,
     "metadata": {},
     "output_type": "execute_result"
    }
   ],
   "source": [
    "# Groupby on the categorical variables Education and Gender to display avg income & age \n",
    "# broken down by gender and education level and rounded to 2 decimal places.\n",
    "\n",
    "grouped = income.groupby(['Gender', 'Education'])\n",
    "round(grouped.aggregate({'Income':np.mean, 'Age':np.mean}), 2)"
   ]
  }
 ],
 "metadata": {
  "kernelspec": {
   "display_name": "Python 3 (ipykernel)",
   "language": "python",
   "name": "python3"
  },
  "language_info": {
   "codemirror_mode": {
    "name": "ipython",
    "version": 3
   },
   "file_extension": ".py",
   "mimetype": "text/x-python",
   "name": "python",
   "nbconvert_exporter": "python",
   "pygments_lexer": "ipython3",
   "version": "3.8.17"
  }
 },
 "nbformat": 4,
 "nbformat_minor": 5
}
